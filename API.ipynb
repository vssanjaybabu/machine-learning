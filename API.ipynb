{
 "cells": [
  {
   "cell_type": "code",
   "execution_count": null,
   "id": "df90abcf",
   "metadata": {},
   "outputs": [
    {
     "data": {
      "text/plain": [
       "True"
      ]
     },
     "execution_count": 11,
     "metadata": {},
     "output_type": "execute_result"
    }
   ],
   "source": [
    "from groq import Groq\n",
    "from dotenv import load_dotenv\n",
    "import os\n",
    "load_dotenv()\n",
    "api_key=os.getenv(\"GROQ_API_KEY\")"
   ]
  },
  {
   "cell_type": "code",
   "execution_count": 13,
   "id": "c92d2d77",
   "metadata": {},
   "outputs": [
    {
     "name": "stdout",
     "output_type": "stream",
     "text": [
      "No problem! I'm happy to just hang out and chat if that's what you'd like. What's on your mind? 😊\n"
     ]
    }
   ],
   "source": [
    "client = Groq(api_key=api_key)\n",
    "completion = client.chat.completions.create(\n",
    "    model=\"gemma2-9b-it\",\n",
    "    messages=[\n",
    "      {\n",
    "        \"role\": \"user\",\n",
    "        \"content\": \"Hey... ??\\n\"\n",
    "      },\n",
    "      {\n",
    "        \"role\": \"assistant\",\n",
    "        \"content\": \"Hello! How are you today? Is there something I can help you with or would you like to chat?\"\n",
    "      },\n",
    "      {\n",
    "        \"role\": \"user\",\n",
    "        \"content\": \"\"\n",
    "      }\n",
    "    ],\n",
    "    temperature=1,\n",
    "    max_completion_tokens=1024,\n",
    "    top_p=1,\n",
    "    stream=True,\n",
    "    stop=None,\n",
    ")\n",
    "\n",
    "for chunk in completion:\n",
    "    print(chunk.choices[0].delta.content or \"\", end=\"\")\n"
   ]
  },
  {
   "cell_type": "code",
   "execution_count": null,
   "id": "c84eaefd",
   "metadata": {},
   "outputs": [],
   "source": [
    "# Create a chatbot interface using Groq's chat completions API\n",
    "def chat_with_groq(messages):\n",
    "    completion = client.chat.completions.create(\n",
    "        model=\"gemma2-9b-it\",\n",
    "        messages=[{\"role\": \"You are a teacher\", \"content\": messages}],\n",
    "        temperature=1,\n",
    "        max_completion_tokens=1024,\n",
    "        top_p=1,\n",
    "        stream=True,\n",
    "        stop=None,\n",
    "    )\n",
    "\n",
    "    for chunk in completion:\n",
    "        print(chunk.choices[0].delta.content or \"\", end=\"\")"
   ]
  },
  {
   "cell_type": "code",
   "execution_count": 17,
   "id": "77827128",
   "metadata": {},
   "outputs": [
    {
     "name": "stdout",
     "output_type": "stream",
     "text": [
      "Ian Goodfellow is a prominent figure in the field of artificial intelligence (AI), particularly known for his groundbreaking work in **generative adversarial networks (GANs)**. \n",
      "\n",
      "Here's a summary of his key accomplishments and contributions:\n",
      "\n",
      "* **Inventor of GANs:** In his 2014 paper \"Generative Adversarial Networks,\" Goodfellow introduced this revolutionary architecture that has significantly advanced the field of deep learning. GANs consist of two competing neural networks: a generator that creates new data instances and a discriminator that tries to distinguish real data from generated data. This adversarial training process leads to the generator producing increasingly realistic synthetic data.\n",
      "* **Research at OpenAI:** Goodfellow currently serves as a Research Scientist at OpenAI, a leading AI research company. He has contributed significantly to OpenAI's advancements in areas like language modeling, reinforcement learning, and robotics.\n",
      "* **Authorship and Impact:** Goodfellow has authored numerous influential research papers that have shaped the AI landscape. His work has been cited thousands of times and has inspired countless researchers and developers worldwide.\n",
      "* **Deep Learning Expert:** He is a renowned expert in deep learning, having contributed to the development of key algorithms and architectures that have driven progress in machine learning.\n",
      "* **Education and Mentorship:** Goodfellow holds a Ph.D. in Computer Science from the University of Montreal. He is a sought-after speaker and mentor, sharing his knowledge and expertise with the AI community.\n",
      "\n",
      "\n",
      "Ian Goodfellow's contributions have profoundly impacted the field of AI, particularly in the areas of generative modeling, data synthesis, and the advancement of deep learning techniques. \n",
      "\n",
      "Chatbot: None\n"
     ]
    }
   ],
   "source": [
    "if __name__ == \"__main__\":\n",
    "    user_input = input(\"You: \")\n",
    "    reply = chat_with_groq(user_input)\n",
    "    print(\"Chatbot:\", reply)"
   ]
  }
 ],
 "metadata": {
  "kernelspec": {
   "display_name": ".venv",
   "language": "python",
   "name": "python3"
  },
  "language_info": {
   "codemirror_mode": {
    "name": "ipython",
    "version": 3
   },
   "file_extension": ".py",
   "mimetype": "text/x-python",
   "name": "python",
   "nbconvert_exporter": "python",
   "pygments_lexer": "ipython3",
   "version": "3.12.10"
  }
 },
 "nbformat": 4,
 "nbformat_minor": 5
}
